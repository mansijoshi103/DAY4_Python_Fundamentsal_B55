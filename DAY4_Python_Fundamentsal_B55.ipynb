{
 "cells": [
  {
   "cell_type": "code",
   "execution_count": null,
   "id": "b52a1cb4",
   "metadata": {},
   "outputs": [],
   "source": [
    "Introduction to list datatype:-\n",
    "    \n",
    "defination:- A list of items declared in a particular order\n",
    "    \n",
    "classification:- It is classified as an mutable data type.\n"
   ]
  },
  {
   "cell_type": "code",
   "execution_count": null,
   "id": "4faee6c5",
   "metadata": {},
   "outputs": [],
   "source": []
  },
  {
   "cell_type": "code",
   "execution_count": 1,
   "id": "85cf4e23",
   "metadata": {},
   "outputs": [],
   "source": [
    "students =['mansi','sayali','sampada','manali','kriya']"
   ]
  },
  {
   "cell_type": "code",
   "execution_count": null,
   "id": "c8cb00eb",
   "metadata": {},
   "outputs": [],
   "source": []
  },
  {
   "cell_type": "code",
   "execution_count": null,
   "id": "06b71d4d",
   "metadata": {},
   "outputs": [],
   "source": []
  },
  {
   "cell_type": "code",
   "execution_count": null,
   "id": "29a5c9fa",
   "metadata": {},
   "outputs": [],
   "source": []
  },
  {
   "cell_type": "code",
   "execution_count": null,
   "id": "67987e57",
   "metadata": {},
   "outputs": [],
   "source": []
  },
  {
   "cell_type": "code",
   "execution_count": null,
   "id": "c70284c4",
   "metadata": {},
   "outputs": [],
   "source": []
  },
  {
   "cell_type": "code",
   "execution_count": 2,
   "id": "0f1dcaf7",
   "metadata": {},
   "outputs": [
    {
     "name": "stdout",
     "output_type": "stream",
     "text": [
      "['mansi', 'sayali', 'sampada', 'manali', 'kriya']\n"
     ]
    }
   ],
   "source": [
    "print(students)"
   ]
  },
  {
   "cell_type": "code",
   "execution_count": 3,
   "id": "320b5b1a",
   "metadata": {},
   "outputs": [
    {
     "data": {
      "text/plain": [
       "list"
      ]
     },
     "execution_count": 3,
     "metadata": {},
     "output_type": "execute_result"
    }
   ],
   "source": [
    "type(students)"
   ]
  },
  {
   "cell_type": "code",
   "execution_count": null,
   "id": "a795de08",
   "metadata": {},
   "outputs": [],
   "source": []
  },
  {
   "cell_type": "code",
   "execution_count": null,
   "id": "322cbda6",
   "metadata": {},
   "outputs": [],
   "source": [
    "#Introduction to indexing: 0,1,2,3..........n"
   ]
  },
  {
   "cell_type": "code",
   "execution_count": 4,
   "id": "3b0bbb43",
   "metadata": {},
   "outputs": [
    {
     "name": "stdout",
     "output_type": "stream",
     "text": [
      "sampada\n"
     ]
    }
   ],
   "source": [
    "print(students[2])"
   ]
  },
  {
   "cell_type": "code",
   "execution_count": 5,
   "id": "2617a7fd",
   "metadata": {},
   "outputs": [
    {
     "name": "stdout",
     "output_type": "stream",
     "text": [
      "kriya\n"
     ]
    }
   ],
   "source": [
    "print(students[4])"
   ]
  },
  {
   "cell_type": "code",
   "execution_count": null,
   "id": "84f2e118",
   "metadata": {},
   "outputs": [],
   "source": []
  },
  {
   "cell_type": "code",
   "execution_count": null,
   "id": "47184981",
   "metadata": {},
   "outputs": [],
   "source": [
    "1.How to add new elements to the list...?\n",
    "\n",
    "2.How to modify teh elements in the list........?\n",
    "\n",
    "3.How to delete the elements in the list.?"
   ]
  },
  {
   "cell_type": "code",
   "execution_count": 6,
   "id": "3abbfce2",
   "metadata": {},
   "outputs": [],
   "source": [
    "students =['mansi','sayali','sampada','manali','kriya']"
   ]
  },
  {
   "cell_type": "code",
   "execution_count": 7,
   "id": "c97b74fd",
   "metadata": {},
   "outputs": [
    {
     "name": "stdout",
     "output_type": "stream",
     "text": [
      "['mansi', 'sayali', 'sampada', 'manali', 'kriya']\n"
     ]
    }
   ],
   "source": [
    "print(students)"
   ]
  },
  {
   "cell_type": "code",
   "execution_count": null,
   "id": "4ae7f42d",
   "metadata": {},
   "outputs": [],
   "source": []
  },
  {
   "cell_type": "code",
   "execution_count": null,
   "id": "93933c52",
   "metadata": {},
   "outputs": [],
   "source": [
    "1.How to add new elements to the list...?"
   ]
  },
  {
   "cell_type": "code",
   "execution_count": 8,
   "id": "d45d85af",
   "metadata": {},
   "outputs": [
    {
     "name": "stdout",
     "output_type": "stream",
     "text": [
      "['mansi', 'sayali', 'sampada', 'manali', 'kriya', 'krish']\n"
     ]
    }
   ],
   "source": [
    "students.append('krish')\n",
    "print(students)"
   ]
  },
  {
   "cell_type": "code",
   "execution_count": 10,
   "id": "6450dcf8",
   "metadata": {},
   "outputs": [
    {
     "name": "stdout",
     "output_type": "stream",
     "text": [
      "['mansi', 'sayali', 'sampada', 'manali', 'kriya', 'krish', 'soniya', 'soniya']\n"
     ]
    }
   ],
   "source": [
    "students.append('soniya')\n",
    "print(students)"
   ]
  },
  {
   "cell_type": "code",
   "execution_count": null,
   "id": "6a7c3e85",
   "metadata": {},
   "outputs": [],
   "source": []
  },
  {
   "cell_type": "code",
   "execution_count": null,
   "id": "942ca7b6",
   "metadata": {},
   "outputs": [],
   "source": [
    "#if i want to add siya to the third index"
   ]
  },
  {
   "cell_type": "code",
   "execution_count": 11,
   "id": "e11820e2",
   "metadata": {},
   "outputs": [
    {
     "name": "stdout",
     "output_type": "stream",
     "text": [
      "['mansi', 'sayali', 'sampada', 'siya', 'manali', 'kriya', 'krish', 'soniya', 'soniya']\n"
     ]
    }
   ],
   "source": [
    "students.insert(3,'siya')\n",
    "print(students)"
   ]
  },
  {
   "cell_type": "code",
   "execution_count": null,
   "id": "6e289d9c",
   "metadata": {},
   "outputs": [],
   "source": []
  },
  {
   "cell_type": "code",
   "execution_count": null,
   "id": "6d852837",
   "metadata": {},
   "outputs": [],
   "source": [
    "#whhat is differences between append and insert method in the list?\n",
    "\n",
    "--->append used to add the element to the last position of list \n",
    "---->insert used to add the element to the any index position."
   ]
  },
  {
   "cell_type": "code",
   "execution_count": null,
   "id": "6bc6270f",
   "metadata": {},
   "outputs": [],
   "source": [
    "\n",
    "2.How to modify teh elements in the list........?"
   ]
  },
  {
   "cell_type": "code",
   "execution_count": 17,
   "id": "72271c7d",
   "metadata": {},
   "outputs": [
    {
     "name": "stdout",
     "output_type": "stream",
     "text": [
      "['mansi', 'sayali', 'sampada', 'pransi', 'manali', 'kriya', 'krish', 'soniya', 'soniya']\n"
     ]
    }
   ],
   "source": [
    "print(students)"
   ]
  },
  {
   "cell_type": "code",
   "execution_count": null,
   "id": "fe8825e8",
   "metadata": {},
   "outputs": [],
   "source": [
    "\n",
    "#i want to change pransi name to siya"
   ]
  },
  {
   "cell_type": "code",
   "execution_count": 16,
   "id": "6eddc426",
   "metadata": {},
   "outputs": [
    {
     "name": "stdout",
     "output_type": "stream",
     "text": [
      "pransi\n"
     ]
    }
   ],
   "source": [
    "print(students[3])"
   ]
  },
  {
   "cell_type": "code",
   "execution_count": 18,
   "id": "4b6514ac",
   "metadata": {},
   "outputs": [
    {
     "name": "stdout",
     "output_type": "stream",
     "text": [
      "['mansi', 'sayali', 'sampada', 'siya', 'manali', 'kriya', 'krish', 'soniya', 'soniya']\n"
     ]
    }
   ],
   "source": [
    "students[3]='siya'\n",
    "\n",
    "print(students)"
   ]
  },
  {
   "cell_type": "code",
   "execution_count": null,
   "id": "5c76ac77",
   "metadata": {},
   "outputs": [],
   "source": []
  },
  {
   "cell_type": "code",
   "execution_count": null,
   "id": "10f0d698",
   "metadata": {},
   "outputs": [],
   "source": [
    "3. how to delet the elemets in the list.?\n"
   ]
  },
  {
   "cell_type": "code",
   "execution_count": 21,
   "id": "b953842d",
   "metadata": {},
   "outputs": [
    {
     "name": "stdout",
     "output_type": "stream",
     "text": [
      "krish\n"
     ]
    }
   ],
   "source": [
    "print(students[5])"
   ]
  },
  {
   "cell_type": "code",
   "execution_count": 22,
   "id": "32c5f4dd",
   "metadata": {},
   "outputs": [
    {
     "name": "stdout",
     "output_type": "stream",
     "text": [
      "['mansi', 'sayali', 'sampada', 'siya', 'manali', 'soniya', 'soniya']\n"
     ]
    }
   ],
   "source": [
    "del students[5]\n",
    "print(students)"
   ]
  },
  {
   "cell_type": "code",
   "execution_count": 23,
   "id": "664d92c8",
   "metadata": {},
   "outputs": [
    {
     "name": "stdout",
     "output_type": "stream",
     "text": [
      "['mansi', 'sayali', 'sampada', 'siya', 'manali', 'soniya']\n"
     ]
    }
   ],
   "source": [
    "del students[5]\n",
    "print(students)"
   ]
  },
  {
   "cell_type": "code",
   "execution_count": null,
   "id": "42fd691c",
   "metadata": {},
   "outputs": [],
   "source": []
  }
 ],
 "metadata": {
  "kernelspec": {
   "display_name": "Python 3 (ipykernel)",
   "language": "python",
   "name": "python3"
  },
  "language_info": {
   "codemirror_mode": {
    "name": "ipython",
    "version": 3
   },
   "file_extension": ".py",
   "mimetype": "text/x-python",
   "name": "python",
   "nbconvert_exporter": "python",
   "pygments_lexer": "ipython3",
   "version": "3.9.7"
  }
 },
 "nbformat": 4,
 "nbformat_minor": 5
}
